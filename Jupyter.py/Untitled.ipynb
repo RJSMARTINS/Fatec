{
 "cells": [
  {
   "cell_type": "markdown",
   "id": "2aea491d",
   "metadata": {},
   "source": [
    "# TIPOS DE DADOS"
   ]
  },
  {
   "cell_type": "markdown",
   "id": "6aa9b185",
   "metadata": {},
   "source": [
    "# strings"
   ]
  },
  {
   "cell_type": "code",
   "execution_count": 22,
   "id": "8ad8e8a9",
   "metadata": {},
   "outputs": [
    {
     "name": "stdout",
     "output_type": "stream",
     "text": [
      "ESSE É UM TEXTO DE TIPO STRING DE ASPAS SIMPLES.\n",
      "ESSE É UM TEXTO DE TIPO STRING DE ASPAS DUPLAS.\n",
      "ESSE É UM TEXTO DE TIPO STRING DE ASPAS TRIPLAS SIMPLES.\n",
      "ESSE É UM TEXTO DE TIPO STRING DE ASPAS TRIPLAS DUPLAS.\n"
     ]
    }
   ],
   "source": [
    "'ESSE É UM TEXTO DE TIPO STRING DE ASPAS SIMPLES.'\n",
    "\"ESSE É UM TEXTO DE TIPO STRING DE ASPAS DUPLAS.\"\n",
    "'''ESSE É UM TEXTO DE TIPO STRING DE ASPAS TRIPLAS SIMPLES.'''\n",
    "\"\"\"ESSE É UM TEXTO DE TIPO STRING DE ASPAS TRIPLAS DUPLAS.\"\"\""
   ]
  },
  {
   "cell_type": "markdown",
   "id": "4e25eb82",
   "metadata": {},
   "source": [
    "# CASOS ESPECIAIS DAS STRINGS"
   ]
  },
  {
   "cell_type": "markdown",
   "id": "a566cc40",
   "metadata": {},
   "source": [
    "ESCAPE CHARACTER"
   ]
  },
  {
   "cell_type": "code",
   "execution_count": 25,
   "id": "7e51afcd",
   "metadata": {},
   "outputs": [
    {
     "data": {
      "text/plain": [
       "'\" don\\'t look at me\"'"
      ]
     },
     "execution_count": 25,
     "metadata": {},
     "output_type": "execute_result"
    }
   ],
   "source": [
    "\"\\\" don't look at me\\\"\" #invisible characters"
   ]
  },
  {
   "cell_type": "code",
   "execution_count": 31,
   "id": "432cfa67",
   "metadata": {},
   "outputs": [
    {
     "name": "stdout",
     "output_type": "stream",
     "text": [
      "Olá mundo. \n",
      "Meu nome é Renan.\n",
      "Olá mundo. \tMeu nome é Renan.\n",
      "Olá mundo. Meu nome é Renan.\n"
     ]
    }
   ],
   "source": [
    "print(\"Olá mundo. \\nMeu nome é Renan.\")  \n",
    "print(\"Olá mundo. \\tMeu nome é Renan.\")  \n",
    "print(\"Olá mundo. Meu nome é Renan.\")  "
   ]
  },
  {
   "cell_type": "markdown",
   "id": "535d88c8",
   "metadata": {},
   "source": [
    "## DESAFIO 1: em duas linhas imprima boas vindas ao usuario"
   ]
  },
  {
   "cell_type": "code",
   "execution_count": 46,
   "id": "2989ca9b",
   "metadata": {},
   "outputs": [
    {
     "name": "stdout",
     "output_type": "stream",
     "text": [
      "Digite seu nome e sua idade e endereço 'Rua e numero': renan 23 asfas 214\n",
      "Olá renan.\n",
      "Você tem 23 anos \n",
      "Mora na rua: asfas. Numero:214 \n"
     ]
    }
   ],
   "source": [
    "# solução 1\n",
    "\n",
    "dados = input(\"Digite seu nome e sua idade e endereço 'Rua e numero': \").split()\n",
    "print(f\"Olá {dados[0]}.\\nVocê tem {dados[1]} anos \\nMora na rua: {dados[2]}. Numero:{dados[3]} \")"
   ]
  },
  {
   "cell_type": "code",
   "execution_count": null,
   "id": "e48aa7a4",
   "metadata": {},
   "outputs": [],
   "source": [
    "# solução 2\n",
    "\n",
    "dados = input(\"Digite seu nome e sua idade e endereço 'Rua e numero': \").split()\n",
    "print(\"Olá, {}.\\nVocê tem {} anos \\nMora na rua: {}, Numero: {}. \" .format(dados[0], dados[1], dados[2], dados[3]))"
   ]
  },
  {
   "cell_type": "markdown",
   "id": "bd8a7d51",
   "metadata": {},
   "source": [
    "# SPLIT"
   ]
  },
  {
   "cell_type": "code",
   "execution_count": 2,
   "id": "d405ff2d",
   "metadata": {},
   "outputs": [
    {
     "name": "stdout",
     "output_type": "stream",
     "text": [
      "Digite seu nome e sua idade e endereço 'Rua e numero': Renan 23 Rhodes 215\n",
      "Olá Renan.\n",
      "Você tem 23 anos \n",
      "Mora na rua: Rhodes, Numero:215 \n"
     ]
    }
   ],
   "source": [
    "# solução 3\n",
    "\n",
    "\n",
    "nome,idade,endereco,numero = input(\"Digite seu nome e sua idade e endereço 'Rua e numero': \").split()\n",
    "print(f\"Olá {nome}.\\nVocê tem {idade} anos \\nMora na rua: {endereco}, Numero:{numero} \")"
   ]
  },
  {
   "cell_type": "markdown",
   "id": "e15b14de",
   "metadata": {},
   "source": [
    "# MANIPULANDO STRINGS/TEXTO"
   ]
  },
  {
   "cell_type": "code",
   "execution_count": 6,
   "id": "55a37ddb",
   "metadata": {},
   "outputs": [
    {
     "name": "stdout",
     "output_type": "stream",
     "text": [
      "\n",
      "COD,NOME,SIGLA\n",
      "35,São Paulo, SP\n",
      "41,Paraná, PR\n",
      "42,Santa Catarina, SC\n",
      "43,Rio Grande do Sul, RS\n",
      "50,Mato Grosso do Sul, MS\n",
      "11,Rondônia, RO\n",
      "12,Acre, AC\n",
      "13,Amazonas, AM\n",
      "14,Roraima, RR\n",
      "15,Pará, PA\n",
      "16,Amapá, AP\n",
      "17,Tocantins, TO\n",
      "21,Maranhão, MA\n",
      "24,Rio Grande do Norte, RN\n",
      "25,Paraíba, PB\n",
      "26,Pernambuco, PE\n",
      "27,Alagoas, AL\n",
      "28,Sergipe, SE\n",
      "29,Bahia, BA\n",
      "31,Minas Gerais, MG\n",
      "33,Rio de Janeiro, RJ\n",
      "51,Mato Grosso, MT\n",
      "52,Goiás, GO\n",
      "53,Distrito Federal, DF\n",
      "22,Piauí, PI\n",
      "23,Ceará, CE\n",
      "32,Espírito Santo, ES \n",
      "\n",
      "\n"
     ]
    }
   ],
   "source": [
    "estados = \"\"\"\n",
    "COD,NOME,SIGLA\n",
    "35,São Paulo, SP\n",
    "41,Paraná, PR\n",
    "42,Santa Catarina, SC\n",
    "43,Rio Grande do Sul, RS\n",
    "50,Mato Grosso do Sul, MS\n",
    "11,Rondônia, RO\n",
    "12,Acre, AC\n",
    "13,Amazonas, AM\n",
    "14,Roraima, RR\n",
    "15,Pará, PA\n",
    "16,Amapá, AP\n",
    "17,Tocantins, TO\n",
    "21,Maranhão, MA\n",
    "24,Rio Grande do Norte, RN\n",
    "25,Paraíba, PB\n",
    "26,Pernambuco, PE\n",
    "27,Alagoas, AL\n",
    "28,Sergipe, SE\n",
    "29,Bahia, BA\n",
    "31,Minas Gerais, MG\n",
    "33,Rio de Janeiro, RJ\n",
    "51,Mato Grosso, MT\n",
    "52,Goiás, GO\n",
    "53,Distrito Federal, DF\n",
    "22,Piauí, PI\n",
    "23,Ceará, CE\n",
    "32,Espírito Santo, ES \n",
    "\n",
    "\"\"\"\n",
    "\n",
    "print(estados)"
   ]
  },
  {
   "cell_type": "code",
   "execution_count": 12,
   "id": "def9f984",
   "metadata": {},
   "outputs": [
    {
     "data": {
      "text/plain": [
       "['COD,NOME,SIGLA',\n",
       " '35,São',\n",
       " 'Paulo,',\n",
       " 'SP',\n",
       " '41,Paraná,',\n",
       " 'PR',\n",
       " '42,Santa',\n",
       " 'Catarina,',\n",
       " 'SC',\n",
       " '43,Rio',\n",
       " 'Grande',\n",
       " 'do',\n",
       " 'Sul,',\n",
       " 'RS',\n",
       " '50,Mato',\n",
       " 'Grosso',\n",
       " 'do',\n",
       " 'Sul,',\n",
       " 'MS',\n",
       " '11,Rondônia,',\n",
       " 'RO',\n",
       " '12,Acre,',\n",
       " 'AC',\n",
       " '13,Amazonas,',\n",
       " 'AM',\n",
       " '14,Roraima,',\n",
       " 'RR',\n",
       " '15,Pará,',\n",
       " 'PA',\n",
       " '16,Amapá,',\n",
       " 'AP',\n",
       " '17,Tocantins,',\n",
       " 'TO',\n",
       " '21,Maranhão,',\n",
       " 'MA',\n",
       " '24,Rio',\n",
       " 'Grande',\n",
       " 'do',\n",
       " 'Norte,',\n",
       " 'RN',\n",
       " '25,Paraíba,',\n",
       " 'PB',\n",
       " '26,Pernambuco,',\n",
       " 'PE',\n",
       " '27,Alagoas,',\n",
       " 'AL',\n",
       " '28,Sergipe,',\n",
       " 'SE',\n",
       " '29,Bahia,',\n",
       " 'BA',\n",
       " '31,Minas',\n",
       " 'Gerais,',\n",
       " 'MG',\n",
       " '33,Rio',\n",
       " 'de',\n",
       " 'Janeiro,',\n",
       " 'RJ',\n",
       " '51,Mato',\n",
       " 'Grosso,',\n",
       " 'MT',\n",
       " '52,Goiás,',\n",
       " 'GO',\n",
       " '53,Distrito',\n",
       " 'Federal,',\n",
       " 'DF',\n",
       " '22,Piauí,',\n",
       " 'PI',\n",
       " '23,Ceará,',\n",
       " 'CE',\n",
       " '32,Espírito',\n",
       " 'Santo,',\n",
       " 'ES']"
      ]
     },
     "execution_count": 12,
     "metadata": {},
     "output_type": "execute_result"
    }
   ],
   "source": [
    "estados.split()\n"
   ]
  },
  {
   "cell_type": "code",
   "execution_count": 14,
   "id": "1cdc53c0",
   "metadata": {},
   "outputs": [
    {
     "data": {
      "text/plain": [
       "['',\n",
       " 'COD,NOME,SIGLA',\n",
       " '35,São Paulo, SP',\n",
       " '41,Paraná, PR',\n",
       " '42,Santa Catarina, SC',\n",
       " '43,Rio Grande do Sul, RS',\n",
       " '50,Mato Grosso do Sul, MS',\n",
       " '11,Rondônia, RO',\n",
       " '12,Acre, AC',\n",
       " '13,Amazonas, AM',\n",
       " '14,Roraima, RR',\n",
       " '15,Pará, PA',\n",
       " '16,Amapá, AP',\n",
       " '17,Tocantins, TO',\n",
       " '21,Maranhão, MA',\n",
       " '24,Rio Grande do Norte, RN',\n",
       " '25,Paraíba, PB',\n",
       " '26,Pernambuco, PE',\n",
       " '27,Alagoas, AL',\n",
       " '28,Sergipe, SE',\n",
       " '29,Bahia, BA',\n",
       " '31,Minas Gerais, MG',\n",
       " '33,Rio de Janeiro, RJ',\n",
       " '51,Mato Grosso, MT',\n",
       " '52,Goiás, GO',\n",
       " '53,Distrito Federal, DF',\n",
       " '22,Piauí, PI',\n",
       " '23,Ceará, CE',\n",
       " '32,Espírito Santo, ES ',\n",
       " '',\n",
       " '']"
      ]
     },
     "execution_count": 14,
     "metadata": {},
     "output_type": "execute_result"
    }
   ],
   "source": [
    "estados.split(\"\\n\")"
   ]
  },
  {
   "cell_type": "markdown",
   "id": "1a1751cf",
   "metadata": {},
   "source": [
    "# OUTROS TIPOS DE STRINGS/TEXTO"
   ]
  },
  {
   "cell_type": "code",
   "execution_count": null,
   "id": "5ba56dd7",
   "metadata": {},
   "outputs": [],
   "source": [
    "r\"raw string\" #texte seco, cru, literal\n",
    "b\"encode text\" #texte binarizado encodado\n",
    "\"Renan\".encode(\"ascii\")"
   ]
  },
  {
   "cell_type": "markdown",
   "id": "40c6d74e",
   "metadata": {},
   "source": [
    "### LISTAS - MUTÁVEIS "
   ]
  },
  {
   "cell_type": "code",
   "execution_count": 18,
   "id": "ffe4e545",
   "metadata": {},
   "outputs": [
    {
     "data": {
      "text/plain": [
       "'Tomate'"
      ]
     },
     "execution_count": 18,
     "metadata": {},
     "output_type": "execute_result"
    }
   ],
   "source": [
    "frutas = [\"Tomate\", \"Maçã\", \"Banana\", \"Morango\", \"Banana\", \"Pêra\", \"Pêssego\"]\n",
    "frutas [-0]"
   ]
  },
  {
   "cell_type": "code",
   "execution_count": 37,
   "id": "fb01a811",
   "metadata": {},
   "outputs": [
    {
     "name": "stdout",
     "output_type": "stream",
     "text": [
      "Digite seu nome e sebrenomerenan martins\n"
     ]
    },
    {
     "ename": "AttributeError",
     "evalue": "'builtin_function_or_method' object has no attribute 'lower'",
     "output_type": "error",
     "traceback": [
      "\u001b[1;31m---------------------------------------------------------------------------\u001b[0m",
      "\u001b[1;31mAttributeError\u001b[0m                            Traceback (most recent call last)",
      "\u001b[1;32mC:\\Users\\FATECS~1\\AppData\\Local\\Temp/ipykernel_13324/1428600718.py\u001b[0m in \u001b[0;36m<module>\u001b[1;34m\u001b[0m\n\u001b[1;32m----> 1\u001b[1;33m \u001b[0mnome\u001b[0m\u001b[1;33m,\u001b[0m\u001b[0msobrenome\u001b[0m \u001b[1;33m=\u001b[0m \u001b[0minput\u001b[0m\u001b[1;33m(\u001b[0m\u001b[1;34m\"Digite seu nome e sebrenome\"\u001b[0m\u001b[1;33m)\u001b[0m\u001b[1;33m.\u001b[0m\u001b[0msplit\u001b[0m\u001b[1;33m.\u001b[0m\u001b[0mlower\u001b[0m\u001b[1;33m(\u001b[0m\u001b[1;33m)\u001b[0m\u001b[1;33m\u001b[0m\u001b[1;33m\u001b[0m\u001b[0m\n\u001b[0m\u001b[0;32m      2\u001b[0m \u001b[0mprint\u001b[0m\u001b[1;33m(\u001b[0m\u001b[1;34m\"As primeiras e letras do seu nome e do seu sobrenome são: \"\u001b[0m \u001b[1;33m+\u001b[0m \u001b[1;34mf\"{nome [0]}{sobrenome [0]}\"\u001b[0m\u001b[1;33m)\u001b[0m\u001b[1;33m\u001b[0m\u001b[1;33m\u001b[0m\u001b[0m\n",
      "\u001b[1;31mAttributeError\u001b[0m: 'builtin_function_or_method' object has no attribute 'lower'"
     ]
    }
   ],
   "source": [
    "import TKionter\n",
    "\n",
    "nome,sobrenome = input(\"Digite seu nome e sebrenome\").split.lower()\n",
    "print(\"As primeiras e letras do seu nome e do seu sobrenome são: \" + f\"{nome [0]}{sobrenome [0]}\")"
   ]
  },
  {
   "cell_type": "markdown",
   "id": "c793ed82",
   "metadata": {},
   "source": [
    "# FUNÇÕES"
   ]
  },
  {
   "cell_type": "markdown",
   "id": "1a5132e5",
   "metadata": {},
   "source": [
    "## CRIANDO FUNÇÕES PRÓPRIAS"
   ]
  },
  {
   "cell_type": "markdown",
   "id": "989651cf",
   "metadata": {},
   "source": [
    "* FUNÇÃO DUMMY"
   ]
  },
  {
   "cell_type": "code",
   "execution_count": 42,
   "id": "e60bd85a",
   "metadata": {},
   "outputs": [],
   "source": [
    "#CRIAÇÃO DE FUNÇÃO\n",
    "\n",
    "def minha_funcao():\n",
    "    ... #pass\n",
    "\n",
    "#Chama função\n",
    "\n",
    "minha_funcao()"
   ]
  },
  {
   "cell_type": "code",
   "execution_count": 53,
   "id": "f5837851",
   "metadata": {},
   "outputs": [
    {
     "name": "stdout",
     "output_type": "stream",
     "text": [
      "OláTalvez\n"
     ]
    }
   ],
   "source": [
    "# Parâmetro\n",
    "\n",
    "def func2(parametro1, parametro2):\n",
    "    return parametro1 + parametro2\n",
    "    \n",
    "print(func2(\"Olá\",\"Talvez\"))"
   ]
  },
  {
   "cell_type": "code",
   "execution_count": 55,
   "id": "f1e5164b",
   "metadata": {},
   "outputs": [
    {
     "name": "stdout",
     "output_type": "stream",
     "text": [
      "5 COISAS\n"
     ]
    }
   ],
   "source": [
    "\n",
    "# Parâmetro padrão\n",
    "\n",
    "def func2(parametro1, parametro2):\n",
    "    return parametro1 + parametro2\n",
    "    \n",
    "valor = func2(\"5\", \" COISAS\")\n",
    "print(valor)\n",
    "\n",
    "# Parâmetro obrigatorio\n",
    "\n",
    "def func3(parametro1, parametro2):\n",
    "    return parametro1 + parametro2\n",
    "    \n",
    "print(func3(\"Olá\",\"Talvez\"))"
   ]
  }
 ],
 "metadata": {
  "kernelspec": {
   "display_name": "Python 3 (ipykernel)",
   "language": "python",
   "name": "python3"
  },
  "language_info": {
   "codemirror_mode": {
    "name": "ipython",
    "version": 3
   },
   "file_extension": ".py",
   "mimetype": "text/x-python",
   "name": "python",
   "nbconvert_exporter": "python",
   "pygments_lexer": "ipython3",
   "version": "3.9.7"
  }
 },
 "nbformat": 4,
 "nbformat_minor": 5
}
