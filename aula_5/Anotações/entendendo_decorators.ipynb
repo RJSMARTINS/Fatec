{
 "cells": [
  {
   "cell_type": "markdown",
   "id": "1cdde11e",
   "metadata": {},
   "source": [
    "# decorators\n",
    "\n",
    "* que são decorators?\n",
    "\n",
    "* como aplicar decorators?\n",
    "\n",
    "* decorators como classe\n",
    "\n",
    "* flask\n"
   ]
  },
  {
   "cell_type": "markdown",
   "id": "64f11b42",
   "metadata": {},
   "source": [
    "Em nivel de função lambida, segue o exemplo"
   ]
  },
  {
   "cell_type": "code",
   "execution_count": 4,
   "id": "8d5bd9a1",
   "metadata": {},
   "outputs": [
    {
     "name": "stdout",
     "output_type": "stream",
     "text": [
      "cavalo!!\n"
     ]
    }
   ],
   "source": [
    "# uma função que retorna outra função\n",
    "\n",
    "pegar_cep = lambda : print\n",
    "\n",
    "pegar_cep()(\"cavalo!!\") # o \"pegar_cep()\" é convertido para print"
   ]
  },
  {
   "cell_type": "markdown",
   "id": "996e5b53",
   "metadata": {},
   "source": [
    "# criando funções"
   ]
  },
  {
   "cell_type": "code",
   "execution_count": 5,
   "id": "5fe7edda",
   "metadata": {},
   "outputs": [],
   "source": [
    "def func():\n",
    "    pass"
   ]
  },
  {
   "cell_type": "markdown",
   "id": "8b6ea0a6",
   "metadata": {},
   "source": [
    "# * função retorna valor"
   ]
  },
  {
   "cell_type": "code",
   "execution_count": 6,
   "id": "c3bd9aa6",
   "metadata": {},
   "outputs": [
    {
     "data": {
      "text/plain": [
       "'valor retornado'"
      ]
     },
     "execution_count": 6,
     "metadata": {},
     "output_type": "execute_result"
    }
   ],
   "source": [
    "def retorna_valor():\n",
    "    return \"valor retornado\"\n",
    "\n",
    "retorna_valor()"
   ]
  },
  {
   "cell_type": "markdown",
   "id": "a9fc29bd",
   "metadata": {},
   "source": [
    "### * Função que recebe e retorna valores"
   ]
  },
  {
   "cell_type": "code",
   "execution_count": 25,
   "id": "cb43215f",
   "metadata": {},
   "outputs": [
    {
     "name": "stdout",
     "output_type": "stream",
     "text": [
      "fatecfatecfatec\n",
      "6\n"
     ]
    }
   ],
   "source": [
    "def func2(parametro): # Parametro = variavel\n",
    "    return parametro * 3\n",
    "print(func2(\"fatec\")) # Argumento = valor literal\n",
    "print(func2(2))"
   ]
  },
  {
   "cell_type": "code",
   "execution_count": 17,
   "id": "a30e0179",
   "metadata": {},
   "outputs": [],
   "source": [
    "# Crie uma função que quando e passado um valor\n",
    "# se interio, retorne o mesmo -1 (menos um) 5 -> 4 \n",
    "# se o valor passado for um float trunkate 1.2 -> 1\n",
    "# se o valor passado for texto, retone :)"
   ]
  },
  {
   "cell_type": "code",
   "execution_count": 49,
   "id": "6212ddb2",
   "metadata": {},
   "outputs": [
    {
     "data": {
      "text/plain": [
       "':)'"
      ]
     },
     "execution_count": 49,
     "metadata": {},
     "output_type": "execute_result"
    }
   ],
   "source": [
    "def fatec(parametro):\n",
    "    if type(parametro) == int:\n",
    "        return parametro -1\n",
    "    elif type(parametro) == float:\n",
    "        return int (parametro) # round parametros)\n",
    "    else:\n",
    "        return \":)\"\n",
    "\n",
    "fatec('')\n",
    "\n",
    "      "
   ]
  },
  {
   "cell_type": "markdown",
   "id": "e99c1d9b",
   "metadata": {},
   "source": [
    "### * crie uma função que retorne 6 numeros aleatorios"
   ]
  },
  {
   "cell_type": "code",
   "execution_count": 34,
   "id": "267bdee3",
   "metadata": {},
   "outputs": [
    {
     "data": {
      "text/plain": [
       "[11, 18, 18, 32, 45, 52]"
      ]
     },
     "execution_count": 34,
     "metadata": {},
     "output_type": "execute_result"
    }
   ],
   "source": [
    "import random\n",
    "\n",
    "def mega_sena():\n",
    "    digitos = []\n",
    "    for i in range(6):\n",
    "        digitos.append(random.randint(1,60))\n",
    "    digitos.sort()\n",
    "    return digitos\n",
    "\n",
    "mega_sena()\n"
   ]
  },
  {
   "cell_type": "code",
   "execution_count": null,
   "id": "e77b9224",
   "metadata": {},
   "outputs": [],
   "source": []
  }
 ],
 "metadata": {
  "kernelspec": {
   "display_name": "Python 3 (ipykernel)",
   "language": "python",
   "name": "python3"
  },
  "language_info": {
   "codemirror_mode": {
    "name": "ipython",
    "version": 3
   },
   "file_extension": ".py",
   "mimetype": "text/x-python",
   "name": "python",
   "nbconvert_exporter": "python",
   "pygments_lexer": "ipython3",
   "version": "3.9.7"
  }
 },
 "nbformat": 4,
 "nbformat_minor": 5
}
